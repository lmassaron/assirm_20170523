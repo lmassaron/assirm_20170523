{
 "cells": [
  {
   "cell_type": "markdown",
   "metadata": {},
   "source": [
    "# Noise effects for linear models"
   ]
  },
  {
   "cell_type": "code",
   "execution_count": 1,
   "metadata": {
    "collapsed": true
   },
   "outputs": [],
   "source": [
    "from sklearn.datasets import load_boston\n",
    "from sklearn.preprocessing import scale\n",
    "boston = load_boston()\n",
    "X, y = scale(boston.data), boston.target"
   ]
  },
  {
   "cell_type": "code",
   "execution_count": 2,
   "metadata": {},
   "outputs": [
    {
     "data": {
      "text/plain": [
       "LinearRegression(copy_X=True, fit_intercept=True, n_jobs=1, normalize=False)"
      ]
     },
     "execution_count": 2,
     "metadata": {},
     "output_type": "execute_result"
    }
   ],
   "source": [
    "from sklearn.linear_model import LinearRegression\n",
    "regression = LinearRegression()\n",
    "regression.fit(X,y)"
   ]
  },
  {
   "cell_type": "code",
   "execution_count": 3,
   "metadata": {},
   "outputs": [
    {
     "name": "stdout",
     "output_type": "stream",
     "text": [
      "0.740607742865\n"
     ]
    }
   ],
   "source": [
    "print (regression.score(X,y))"
   ]
  },
  {
   "cell_type": "code",
   "execution_count": 18,
   "metadata": {
    "collapsed": true
   },
   "outputs": [],
   "source": [
    "try:\n",
    "    from sklearn.model_selection import train_test_split\n",
    "except:\n",
    "    from sklearn.cross_validation import train_test_split\n",
    "\n",
    "import numpy as np\n",
    "from sklearn.metrics import r2_score"
   ]
  },
  {
   "cell_type": "code",
   "execution_count": 19,
   "metadata": {
    "collapsed": true
   },
   "outputs": [],
   "source": [
    "X_train, X_test, y_train, y_test = train_test_split(X, y, test_size=0.33, random_state=42)"
   ]
  },
  {
   "cell_type": "code",
   "execution_count": 20,
   "metadata": {},
   "outputs": [
    {
     "name": "stdout",
     "output_type": "stream",
     "text": [
      "Random features: +1 ->  \tin sample R2: 0.740 \tout of sample R2: 0.724\n",
      "Random features: +2 ->  \tin sample R2: 0.740 \tout of sample R2: 0.725\n",
      "Random features: +4 ->  \tin sample R2: 0.743 \tout of sample R2: 0.726\n",
      "Random features: +8 ->  \tin sample R2: 0.747 \tout of sample R2: 0.721\n",
      "Random features: +16 ->  \tin sample R2: 0.748 \tout of sample R2: 0.721\n",
      "Random features: +32 ->  \tin sample R2: 0.763 \tout of sample R2: 0.702\n",
      "Random features: +64 ->  \tin sample R2: 0.781 \tout of sample R2: 0.681\n",
      "Random features: +128 ->  \tin sample R2: 0.845 \tout of sample R2: 0.565\n"
     ]
    }
   ],
   "source": [
    "for i in range(2**7+1):\n",
    "    X_train = np.column_stack((X_train,np.random.random(X_train.shape[0])))\n",
    "    X_test = np.column_stack((X_test,np.random.random(X_test.shape[0])))\n",
    "    regression.fit(X_train, y_train)\n",
    "    in_sample_r2 = r2_score(y_train,regression.predict(X_train))\n",
    "    out_sample_r2 = r2_score(y_test,regression.predict(X_test))\n",
    "    if i in [2**i for i in range(8)]:\n",
    "        print (\"Random features: +%i ->  \\tin sample R2: %0.3f \\tout of sample R2: %0.3f\" % \n",
    "               (i, in_sample_r2, out_sample_r2))"
   ]
  },
  {
   "cell_type": "code",
   "execution_count": null,
   "metadata": {
    "collapsed": true
   },
   "outputs": [],
   "source": []
  }
 ],
 "metadata": {
  "kernelspec": {
   "display_name": "Python 3",
   "language": "python",
   "name": "python3"
  },
  "language_info": {
   "codemirror_mode": {
    "name": "ipython",
    "version": 3
   },
   "file_extension": ".py",
   "mimetype": "text/x-python",
   "name": "python",
   "nbconvert_exporter": "python",
   "pygments_lexer": "ipython3",
   "version": "3.6.1"
  }
 },
 "nbformat": 4,
 "nbformat_minor": 2
}
